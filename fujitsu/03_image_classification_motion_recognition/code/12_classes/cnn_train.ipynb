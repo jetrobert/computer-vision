{
 "cells": [
  {
   "cell_type": "code",
   "execution_count": 1,
   "metadata": {
    "collapsed": true
   },
   "outputs": [],
   "source": [
    "import matplotlib.pyplot as plt\n",
    "import tensorflow as tf\n",
    "import numpy as np\n",
    "from sklearn.metrics import confusion_matrix\n",
    "import time\n",
    "from datetime import timedelta\n",
    "import math\n",
    "import os\n",
    "# Use PrettyTensor to simplify Neural Network construction.\n",
    "import prettytensor as pt\n",
    "import sys\n",
    "import load_data\n",
    "from load_data import img_size, num_channels, num_classes"
   ]
  },
  {
   "cell_type": "markdown",
   "metadata": {},
   "source": [
    "# image preprocessing function"
   ]
  },
  {
   "cell_type": "code",
   "execution_count": 2,
   "metadata": {
    "collapsed": true
   },
   "outputs": [],
   "source": [
    "# for train dataset random crop, flip left to right， contrast..\n",
    "# for test dataset resize_image_with_crop_or_pad\n",
    "def pre_process_image(image, training):\n",
    "    # This function takes a single image as input,\n",
    "    # and a boolean whether to build the training or testing graph. \n",
    "    if training:\n",
    "        # For training, add the following to the TensorFlow graph.\n",
    "        # Randomly crop the input image.\n",
    "        image = tf.random_crop(image, size=[img_size_cropped, img_size_cropped, num_channels])\n",
    "        # Randomly flip the image horizontally.\n",
    "        image = tf.image.random_flip_left_right(image)      \n",
    "        # Randomly adjust contrast and saturation.\n",
    "        image = tf.image.random_brightness(image, max_delta=63)\n",
    "        image = tf.image.random_contrast(image, lower=0.2, upper=1.8)\n",
    "        # Some of these functions may overflow and result in pixel\n",
    "        # values beyond the [0, 1] range. A simple solution is to limit the range.\n",
    "        # Limit the image pixels between [0, 1] in case of overflow.\n",
    "        image = tf.minimum(image, 1.0)\n",
    "        image = tf.maximum(image, 0.0)\n",
    "    else:\n",
    "        # For training, add the following to the TensorFlow graph.\n",
    "        # Crop the input image around the centre so it is the same\n",
    "        # size as images that are randomly cropped during training.\n",
    "        image = tf.image.resize_image_with_crop_or_pad(image,\n",
    "                            target_height=img_size_cropped,\n",
    "                            target_width=img_size_cropped)\n",
    "    return image"
   ]
  },
  {
   "cell_type": "markdown",
   "metadata": {},
   "source": [
    "# image processing function"
   ]
  },
  {
   "cell_type": "code",
   "execution_count": 3,
   "metadata": {
    "collapsed": true
   },
   "outputs": [],
   "source": [
    "def pre_process(images, training):\n",
    "    # Use TensorFlow to loop over all the input images and call\n",
    "    # the function above which takes a single image as input.\n",
    "    images = tf.map_fn(lambda image: pre_process_image(image, training), images)\n",
    "    return images"
   ]
  },
  {
   "cell_type": "markdown",
   "metadata": {},
   "source": [
    "# 3-conv-layer function with Pretty Tensor framework"
   ]
  },
  {
   "cell_type": "code",
   "execution_count": 4,
   "metadata": {
    "collapsed": true
   },
   "outputs": [],
   "source": [
    "def main_network(images, training):\n",
    "    # Wrap the input images as a Pretty Tensor object.\n",
    "    x_pretty = pt.wrap(images)\n",
    "    # Pretty Tensor uses special numbers to distinguish between\n",
    "    # the training and testing phases.\n",
    "    if training:\n",
    "        phase = pt.Phase.train\n",
    "    else:\n",
    "        phase = pt.Phase.infer\n",
    "    # Create the convolutional neural network using Pretty Tensor.\n",
    "    # It is very similar to the previous tutorials, except\n",
    "    # the use of so-called batch-normalization in the first layer.\n",
    "    with pt.defaults_scope(activation_fn=tf.nn.relu, phase=phase):\n",
    "        y_pred, loss = x_pretty.\\\n",
    "            conv2d(kernel=5, depth=32, name='layer_conv1', batch_normalize=True).\\\n",
    "            max_pool(kernel=2, stride=2).\\\n",
    "            conv2d(kernel=3, depth=32, name='layer_conv2').\\\n",
    "            max_pool(kernel=2, stride=2).\\\n",
    "            conv2d(kernel=5, depth=32, name='layer_conv3').\\\n",
    "            max_pool(kernel=2, stride=2).\\\n",
    "            flatten().\\\n",
    "            fully_connected(size=256, name='layer_fc1').\\\n",
    "            fully_connected(size=128, name='layer_fc2').\\\n",
    "            softmax_classifier(num_classes, labels=y_true)\n",
    "    return y_pred, loss"
   ]
  },
  {
   "cell_type": "markdown",
   "metadata": {},
   "source": [
    "# build network function"
   ]
  },
  {
   "cell_type": "code",
   "execution_count": 5,
   "metadata": {
    "collapsed": true
   },
   "outputs": [],
   "source": [
    "def create_network(training):\n",
    "    # Wrap the neural network in the scope named 'network'.\n",
    "    # Create new variables during training, and re-use during testing.\n",
    "    with tf.variable_scope('network', reuse=not training):\n",
    "        # Just rename the input placeholder variable for convenience.\n",
    "        images = x\n",
    "        # Create TensorFlow graph for pre-processing.\n",
    "        images = pre_process(images=images, training=training)\n",
    "        # Create TensorFlow graph for the main processing.\n",
    "        y_pred, loss = main_network(images=images, training=training)\n",
    "    return y_pred, loss"
   ]
  },
  {
   "cell_type": "markdown",
   "metadata": {},
   "source": [
    "# random batch function"
   ]
  },
  {
   "cell_type": "code",
   "execution_count": 6,
   "metadata": {
    "collapsed": true
   },
   "outputs": [],
   "source": [
    "def random_batch():\n",
    "    # Number of images in the training-set.\n",
    "    num_images = len(images_train)\n",
    "    # Create a random index.\n",
    "    idx = np.random.choice(num_images,\n",
    "                           size=train_batch_size,\n",
    "                           replace=False)\n",
    "    # Use the random index to select random images and labels.\n",
    "    x_batch = images_train[idx, :, :, :]\n",
    "    y_batch = labels_train[idx, :]\n",
    "    return x_batch, y_batch"
   ]
  },
  {
   "cell_type": "markdown",
   "metadata": {},
   "source": [
    "# optimization function"
   ]
  },
  {
   "cell_type": "code",
   "execution_count": 7,
   "metadata": {
    "collapsed": true
   },
   "outputs": [],
   "source": [
    "# every 100 iterations print train accuracy, 1000 iterations save trained network\n",
    "def optimize(num_iterations):\n",
    "    # Start-time used for printing time-usage below.\n",
    "    start_time = time.time()\n",
    "    for i in range(num_iterations):\n",
    "        # x_batch now holds a batch of images and\n",
    "        # y_true_batch are the true labels for those images.\n",
    "        x_batch, y_true_batch = random_batch()\n",
    "        # Put the batch into a dict with the proper names\n",
    "        # for placeholder variables in the TensorFlow graph.\n",
    "        feed_dict_train = {x: x_batch, y_true: y_true_batch}\n",
    "        i_global, _ = session.run([global_step, optimizer],\n",
    "                                  feed_dict=feed_dict_train)\n",
    "        # Print status every 100 iterations\n",
    "        if (i_global % 100 == 0) or (i == num_iterations - 1):\n",
    "            # Calculate the accuracy on the training-batch.\n",
    "            batch_acc = session.run(accuracy, feed_dict=feed_dict_train)\n",
    "            msg = \"Global Step: {0:>6}, Training Batch Accuracy: {1:>6.1%}\"\n",
    "            print(msg.format(i_global, batch_acc))\n",
    "        # Save a checkpoint to disk every 1000 iterations\n",
    "        if (i_global % 1000 == 0) or (i == num_iterations - 1):\n",
    "            # Save all variables of the TensorFlow graph to a\n",
    "            # checkpoint. Append the global_step counter\n",
    "            # to the filename so we save the last several checkpoints.\n",
    "            saver.save(session, save_path=save_path, global_step=global_step)\n",
    "            print(\"Saved checkpoint.\")\n",
    "    # Ending time.\n",
    "    end_time = time.time()\n",
    "    time_dif = end_time - start_time\n",
    "    # Print the time-usage.\n",
    "    print(\"Time usage: \" + str(timedelta(seconds=int(round(time_dif)))))"
   ]
  },
  {
   "cell_type": "markdown",
   "metadata": {},
   "source": [
    "# define 3*3 figures plot function"
   ]
  },
  {
   "cell_type": "code",
   "execution_count": 8,
   "metadata": {
    "collapsed": true
   },
   "outputs": [],
   "source": [
    "def plot_images(images, cls_true, cls_pred=None, smooth=True):\n",
    "    assert len(images) == len(cls_true) == 9\n",
    "    # Create figure with sub-plots.\n",
    "    fig, axes = plt.subplots(3, 3)\n",
    "    # Adjust vertical spacing if we need to print ensemble and best-net.\n",
    "    if cls_pred is None:\n",
    "        hspace = 0.3\n",
    "    else:\n",
    "        hspace = 0.6\n",
    "    fig.subplots_adjust(hspace=hspace, wspace=0.3)\n",
    "    for i, ax in enumerate(axes.flat):\n",
    "        # Interpolation type.\n",
    "        if smooth:\n",
    "            interpolation = 'spline16'\n",
    "        else:\n",
    "            interpolation = 'nearest'\n",
    "        # Plot image.\n",
    "        ax.imshow(images[i, :, :, :],\n",
    "                  interpolation=interpolation)            \n",
    "        # Name of the true class.\n",
    "        cls_true_name = class_names[cls_true[i]]\n",
    "        # Show true and predicted classes.\n",
    "        if cls_pred is None:\n",
    "            xlabel = \"True: {0}\".format(cls_true_name)\n",
    "        else:\n",
    "            # Name of the predicted class.\n",
    "            cls_pred_name = class_names[cls_pred[i]]\n",
    "            xlabel = \"True: {0}\\nPred: {1}\".format(cls_true_name, cls_pred_name)\n",
    "        # Show the classes as the label on the x-axis.\n",
    "        ax.set_xlabel(xlabel)      \n",
    "        ax.set_xticks([])\n",
    "        ax.set_yticks([])  \n",
    "    plt.savefig(\"result/prediction_demo.png\")\n",
    "    plt.show()"
   ]
  },
  {
   "cell_type": "markdown",
   "metadata": {},
   "source": [
    "# example error function"
   ]
  },
  {
   "cell_type": "code",
   "execution_count": 9,
   "metadata": {
    "collapsed": true
   },
   "outputs": [],
   "source": [
    "def plot_example_errors(cls_pred, correct):\n",
    "    # This function is called from print_test_accuracy() below.\n",
    "    # cls_pred is an array of the predicted class-number for all images in the test-set.\n",
    "    # correct is a boolean array whether the predicted class\n",
    "    # is equal to the true class for each image in the test-set.\n",
    "    # Negate the boolean array.\n",
    "    incorrect = (correct == False)  \n",
    "    # Get the images from the test-set that have been\n",
    "    # incorrectly classified.\n",
    "    images = images_test[incorrect]   \n",
    "    # Get the predicted classes for those images.\n",
    "    cls_pred = cls_pred[incorrect]\n",
    "    # Get the true classes for those images.\n",
    "    cls_true = cls_test[incorrect]    \n",
    "    # Plot the first 9 images.\n",
    "    plot_images(images=images[0:9],\n",
    "                cls_true=cls_true[0:9],\n",
    "                cls_pred=cls_pred[0:9])"
   ]
  },
  {
   "cell_type": "markdown",
   "metadata": {},
   "source": [
    "# confusion matrix function"
   ]
  },
  {
   "cell_type": "code",
   "execution_count": 10,
   "metadata": {
    "collapsed": true
   },
   "outputs": [],
   "source": [
    "def plot_confusion_matrix(cls_pred):\n",
    "    # This is called from print_test_accuracy() below.\n",
    "    # cls_pred is an array of the predicted class-number for\n",
    "    # all images in the test-set.\n",
    "    # Get the confusion matrix using sklearn.\n",
    "    cm = confusion_matrix(y_true=cls_test,  # True class for test-set.\n",
    "                          y_pred=cls_pred)  # Predicted class.\n",
    "    # Print the confusion matrix as text.\n",
    "    for i in range(num_classes):\n",
    "        # Append the class-name to each line.\n",
    "        class_name = \"({}) {}\".format(i, class_names[i])\n",
    "        print(cm[i, :], class_name)\n",
    "    # Print the class-numbers for easy reference.\n",
    "    class_numbers = [\" ({0})\".format(i) for i in range(num_classes)]\n",
    "    print(\"\".join(class_numbers))"
   ]
  },
  {
   "cell_type": "markdown",
   "metadata": {},
   "source": [
    "# predict class function"
   ]
  },
  {
   "cell_type": "code",
   "execution_count": 11,
   "metadata": {
    "collapsed": true
   },
   "outputs": [],
   "source": [
    "def predict_cls(images, labels, cls_true):\n",
    "    # Number of images.\n",
    "    num_images = len(images)\n",
    "    # Allocate an array for the predicted classes which\n",
    "    # will be calculated in batches and filled into this array.\n",
    "    cls_pred = np.zeros(shape=num_images, dtype=np.int)\n",
    "    # Now calculate the predicted classes for the batches.\n",
    "    i = 0\n",
    "    while i < num_images:\n",
    "        # The ending index for the next batch is denoted j.\n",
    "        j = min(i + batch_size, num_images)\n",
    "        # Create a feed-dict with the images and labels\n",
    "        # between index i and j.\n",
    "        feed_dict = {x: images[i:j, :], y_true: labels[i:j, :]}\n",
    "        # Calculate the predicted class using TensorFlow.\n",
    "        cls_pred[i:j] = session.run(y_pred_cls, feed_dict=feed_dict)\n",
    "        # Set the start-index for the next batch to the end-index of the current batch.\n",
    "        i = j\n",
    "    # Create a boolean array whether each image is correctly classified.\n",
    "    correct = (cls_true == cls_pred)\n",
    "    return correct, cls_pred\n",
    "\n",
    "def predict_cls_test():\n",
    "    return predict_cls(images = images_test, labels = labels_test, cls_true = cls_test)"
   ]
  },
  {
   "cell_type": "markdown",
   "metadata": {},
   "source": [
    "# classification accuracy function"
   ]
  },
  {
   "cell_type": "code",
   "execution_count": 12,
   "metadata": {
    "collapsed": true
   },
   "outputs": [],
   "source": [
    "def classification_accuracy(correct):\n",
    "    # When averaging a boolean array, False means 0 and True means 1.\n",
    "    # calculating: number of True / len(correct)    \n",
    "    # Return the classification accuracy and the number of correct classifications.\n",
    "    return correct.mean(), correct.sum()"
   ]
  },
  {
   "cell_type": "markdown",
   "metadata": {},
   "source": [
    "# print accuracy function"
   ]
  },
  {
   "cell_type": "code",
   "execution_count": 13,
   "metadata": {
    "collapsed": true
   },
   "outputs": [],
   "source": [
    "def print_test_accuracy(show_example_errors=False,\n",
    "                        show_confusion_matrix=False):\n",
    "    # For all the images in the test-set, calculate the predicted classes.\n",
    "    correct, cls_pred = predict_cls_test()   \n",
    "    # Classification accuracy and the number of correct classifications.\n",
    "    acc, num_correct = classification_accuracy(correct)   \n",
    "    # Number of images being classified.\n",
    "    num_images = len(correct)\n",
    "    # Print the accuracy.\n",
    "    msg = \"Accuracy on Test-Set: {0:.1%} ({1} / {2})\"\n",
    "    print(msg.format(acc, num_correct, num_images))\n",
    "    # Plot some examples of mis-classifications, if desired.\n",
    "    if show_example_errors:\n",
    "        print(\"Example errors:\")\n",
    "        plot_example_errors(cls_pred=cls_pred, correct=correct)\n",
    "    # Plot the confusion matrix, if desired.\n",
    "    if show_confusion_matrix:\n",
    "        print(\"Confusion Matrix: N/A\")\n",
    "        plot_confusion_matrix(cls_pred=cls_pred)"
   ]
  },
  {
   "cell_type": "markdown",
   "metadata": {},
   "source": [
    "# load data"
   ]
  },
  {
   "cell_type": "code",
   "execution_count": 14,
   "metadata": {
    "scrolled": true
   },
   "outputs": [
    {
     "name": "stdout",
     "output_type": "stream",
     "text": [
      "Loading data: ../../dataset/12_classes/dataset-batches-py-256/train_batch_1\n",
      "Loading data: ../../dataset/12_classes/dataset-batches-py-256/train_batch_2\n",
      "Loading data: ../../dataset/12_classes/dataset-batches-py-256/train_batch_3\n",
      "Loading data: ../../dataset/12_classes/dataset-batches-py-256/train_batch_4\n",
      "Loading data: ../../dataset/12_classes/dataset-batches-py-256/train_batch_5\n",
      "Loading data: ../../dataset/12_classes/dataset-batches-py-256/test_batch\n"
     ]
    }
   ],
   "source": [
    "# labels_train([0,0,0,0,0,0,1,0,0,0,0,0])\n",
    "images_train, cls_train, labels_train = load_data.load_training_data()\n",
    "images_test, cls_test, labels_test = load_data.load_test_data()"
   ]
  },
  {
   "cell_type": "markdown",
   "metadata": {},
   "source": [
    "# placeholder"
   ]
  },
  {
   "cell_type": "code",
   "execution_count": 15,
   "metadata": {
    "collapsed": true
   },
   "outputs": [],
   "source": [
    "x = tf.placeholder(tf.float32, shape=[None, img_size, img_size, num_channels], name='x')\n",
    "y_true = tf.placeholder(tf.float32, shape=[None, num_classes], name='y_true')\n",
    "# each in y_true array < 1\n",
    "y_true_cls = tf.argmax(y_true, dimension=1)"
   ]
  },
  {
   "cell_type": "markdown",
   "metadata": {},
   "source": [
    "# images preprocessing"
   ]
  },
  {
   "cell_type": "code",
   "execution_count": 16,
   "metadata": {
    "collapsed": true
   },
   "outputs": [],
   "source": [
    "# setting cropping size, raw image size is 256*256\n",
    "img_size_cropped = 24\n",
    "distorted_images = pre_process(images=x, training=True)"
   ]
  },
  {
   "cell_type": "markdown",
   "metadata": {},
   "source": [
    "# define loss and accuracy"
   ]
  },
  {
   "cell_type": "code",
   "execution_count": 17,
   "metadata": {
    "collapsed": true,
    "scrolled": false
   },
   "outputs": [],
   "source": [
    "# set trainable=False means no optimization\n",
    "global_step = tf.Variable(initial_value=0,\n",
    "              name='global_step', trainable=True)\n",
    "\n",
    "# calculate loss\n",
    "_, loss = create_network(training=True)\n",
    "optimizer = tf.train.AdamOptimizer(learning_rate=1e-4).minimize(\n",
    "            loss, global_step=global_step)\n",
    "\n",
    "# prediction\n",
    "y_pred, _ = create_network(training=False)\n",
    "y_pred_cls = tf.argmax(y_pred, dimension=1)\n",
    "correct_prediction = tf.equal(y_pred_cls, y_true_cls)\n",
    "\n",
    "# accuracy\n",
    "accuracy = tf.reduce_mean(tf.cast(correct_prediction, tf.float32))"
   ]
  },
  {
   "cell_type": "markdown",
   "metadata": {},
   "source": [
    "# session startup"
   ]
  },
  {
   "cell_type": "code",
   "execution_count": 18,
   "metadata": {
    "collapsed": true
   },
   "outputs": [],
   "source": [
    "session = tf.Session()\n",
    "session.run(tf.global_variables_initializer())"
   ]
  },
  {
   "cell_type": "markdown",
   "metadata": {},
   "source": [
    "# define trained network saver()"
   ]
  },
  {
   "cell_type": "code",
   "execution_count": 19,
   "metadata": {
    "collapsed": true
   },
   "outputs": [],
   "source": [
    "save_dir = '../../dataset/12_classes/checkpoints/'\n",
    "if not os.path.exists(save_dir):\n",
    "    os.makedirs(save_dir)\n",
    "save_path = save_dir + 'motion_recog_cnn'\n",
    "saver = tf.train.Saver()"
   ]
  },
  {
   "cell_type": "markdown",
   "metadata": {},
   "source": [
    "# train and accuracy test"
   ]
  },
  {
   "cell_type": "code",
   "execution_count": 20,
   "metadata": {
    "scrolled": false
   },
   "outputs": [
    {
     "name": "stdout",
     "output_type": "stream",
     "text": [
      "Loading data: ../../dataset/12_classes/dataset-batches-py-256/batches.meta\n",
      "Global Step:    100, Training Batch Accuracy:   7.8%\n",
      "Global Step:    200, Training Batch Accuracy:   6.2%\n",
      "Global Step:    300, Training Batch Accuracy:  14.1%\n",
      "Global Step:    400, Training Batch Accuracy:   9.4%\n",
      "Global Step:    500, Training Batch Accuracy:  15.6%\n",
      "Global Step:    600, Training Batch Accuracy:   9.4%\n",
      "Global Step:    700, Training Batch Accuracy:  12.5%\n",
      "Global Step:    800, Training Batch Accuracy:  17.2%\n",
      "Global Step:    900, Training Batch Accuracy:  14.1%\n",
      "Global Step:   1000, Training Batch Accuracy:   6.2%\n",
      "Saved checkpoint.\n",
      "Global Step:   1100, Training Batch Accuracy:  18.8%\n",
      "Global Step:   1200, Training Batch Accuracy:  10.9%\n",
      "Global Step:   1300, Training Batch Accuracy:   9.4%\n",
      "Global Step:   1400, Training Batch Accuracy:  10.9%\n",
      "Global Step:   1500, Training Batch Accuracy:  10.9%\n",
      "Global Step:   1600, Training Batch Accuracy:  21.9%\n",
      "Global Step:   1700, Training Batch Accuracy:  20.3%\n",
      "Global Step:   1800, Training Batch Accuracy:  14.1%\n",
      "Global Step:   1900, Training Batch Accuracy:  12.5%\n",
      "Global Step:   2000, Training Batch Accuracy:  17.2%\n",
      "Saved checkpoint.\n",
      "Global Step:   2100, Training Batch Accuracy:  25.0%\n",
      "Global Step:   2200, Training Batch Accuracy:   7.8%\n",
      "Global Step:   2300, Training Batch Accuracy:  21.9%\n",
      "Global Step:   2400, Training Batch Accuracy:   6.2%\n",
      "Global Step:   2500, Training Batch Accuracy:  17.2%\n",
      "Global Step:   2600, Training Batch Accuracy:  15.6%\n",
      "Global Step:   2700, Training Batch Accuracy:  21.9%\n",
      "Global Step:   2800, Training Batch Accuracy:  12.5%\n",
      "Global Step:   2900, Training Batch Accuracy:  17.2%\n",
      "Global Step:   3000, Training Batch Accuracy:  17.2%\n",
      "Saved checkpoint.\n",
      "Global Step:   3100, Training Batch Accuracy:  10.9%\n",
      "Global Step:   3200, Training Batch Accuracy:  17.2%\n",
      "Global Step:   3300, Training Batch Accuracy:  12.5%\n",
      "Global Step:   3400, Training Batch Accuracy:  10.9%\n",
      "Global Step:   3500, Training Batch Accuracy:   9.4%\n",
      "Global Step:   3600, Training Batch Accuracy:  10.9%\n",
      "Global Step:   3700, Training Batch Accuracy:  21.9%\n",
      "Global Step:   3800, Training Batch Accuracy:   7.8%\n",
      "Global Step:   3900, Training Batch Accuracy:  29.7%\n",
      "Global Step:   4000, Training Batch Accuracy:   7.8%\n",
      "Saved checkpoint.\n",
      "Global Step:   4100, Training Batch Accuracy:  21.9%\n",
      "Global Step:   4200, Training Batch Accuracy:  17.2%\n",
      "Global Step:   4300, Training Batch Accuracy:  12.5%\n",
      "Global Step:   4400, Training Batch Accuracy:  25.0%\n",
      "Global Step:   4500, Training Batch Accuracy:  20.3%\n",
      "Global Step:   4600, Training Batch Accuracy:  20.3%\n",
      "Global Step:   4700, Training Batch Accuracy:  14.1%\n",
      "Global Step:   4800, Training Batch Accuracy:  12.5%\n",
      "Global Step:   4900, Training Batch Accuracy:  15.6%\n",
      "Global Step:   5000, Training Batch Accuracy:   9.4%\n",
      "Saved checkpoint.\n",
      "Global Step:   5100, Training Batch Accuracy:  10.9%\n",
      "Global Step:   5200, Training Batch Accuracy:  15.6%\n",
      "Global Step:   5300, Training Batch Accuracy:  15.6%\n",
      "Global Step:   5400, Training Batch Accuracy:   7.8%\n",
      "Global Step:   5500, Training Batch Accuracy:  17.2%\n",
      "Global Step:   5600, Training Batch Accuracy:   7.8%\n",
      "Global Step:   5700, Training Batch Accuracy:  20.3%\n",
      "Global Step:   5800, Training Batch Accuracy:  17.2%\n",
      "Global Step:   5900, Training Batch Accuracy:  14.1%\n",
      "Global Step:   6000, Training Batch Accuracy:   9.4%\n",
      "Saved checkpoint.\n",
      "Global Step:   6100, Training Batch Accuracy:   9.4%\n",
      "Global Step:   6200, Training Batch Accuracy:  15.6%\n",
      "Global Step:   6300, Training Batch Accuracy:  20.3%\n",
      "Global Step:   6400, Training Batch Accuracy:  17.2%\n",
      "Global Step:   6500, Training Batch Accuracy:  12.5%\n",
      "Global Step:   6600, Training Batch Accuracy:  15.6%\n",
      "Global Step:   6700, Training Batch Accuracy:  12.5%\n",
      "Global Step:   6800, Training Batch Accuracy:  12.5%\n",
      "Global Step:   6900, Training Batch Accuracy:  17.2%\n",
      "Global Step:   7000, Training Batch Accuracy:  14.1%\n",
      "Saved checkpoint.\n",
      "Global Step:   7100, Training Batch Accuracy:  20.3%\n",
      "Global Step:   7200, Training Batch Accuracy:  18.8%\n",
      "Global Step:   7300, Training Batch Accuracy:  21.9%\n",
      "Global Step:   7400, Training Batch Accuracy:  20.3%\n",
      "Global Step:   7500, Training Batch Accuracy:  18.8%\n",
      "Global Step:   7600, Training Batch Accuracy:  17.2%\n",
      "Global Step:   7700, Training Batch Accuracy:  12.5%\n",
      "Global Step:   7800, Training Batch Accuracy:  10.9%\n",
      "Global Step:   7900, Training Batch Accuracy:  15.6%\n",
      "Global Step:   8000, Training Batch Accuracy:   7.8%\n",
      "Saved checkpoint.\n",
      "Global Step:   8100, Training Batch Accuracy:  14.1%\n",
      "Global Step:   8200, Training Batch Accuracy:  15.6%\n",
      "Global Step:   8300, Training Batch Accuracy:   9.4%\n",
      "Global Step:   8400, Training Batch Accuracy:  15.6%\n",
      "Global Step:   8500, Training Batch Accuracy:  20.3%\n",
      "Global Step:   8600, Training Batch Accuracy:  18.8%\n",
      "Global Step:   8700, Training Batch Accuracy:  15.6%\n",
      "Global Step:   8800, Training Batch Accuracy:  18.8%\n",
      "Global Step:   8900, Training Batch Accuracy:  23.4%\n",
      "Global Step:   9000, Training Batch Accuracy:  12.5%\n",
      "Saved checkpoint.\n",
      "Global Step:   9100, Training Batch Accuracy:   1.6%\n",
      "Global Step:   9200, Training Batch Accuracy:  14.1%\n",
      "Global Step:   9300, Training Batch Accuracy:  14.1%\n",
      "Global Step:   9400, Training Batch Accuracy:   7.8%\n",
      "Global Step:   9500, Training Batch Accuracy:  18.8%\n",
      "Global Step:   9600, Training Batch Accuracy:  10.9%\n",
      "Global Step:   9700, Training Batch Accuracy:  14.1%\n",
      "Global Step:   9800, Training Batch Accuracy:  12.5%\n",
      "Global Step:   9900, Training Batch Accuracy:  17.2%\n",
      "Global Step:  10000, Training Batch Accuracy:  10.9%\n",
      "Saved checkpoint.\n",
      "Time usage: 0:28:58\n",
      "Accuracy on Test-Set: 15.0% (30 / 200)\n",
      "Example errors:\n"
     ]
    },
    {
     "data": {
      "image/png": "[encoded data removed]",
      "text/plain": [
       "<matplotlib.figure.Figure at 0x7f2d54095bd0>"
      ]
     },
     "metadata": {},
     "output_type": "display_data"
    },
    {
     "name": "stdout",
     "output_type": "stream",
     "text": [
      "Confusion Matrix: N/A\n",
      "(array([ 0,  9,  0,  0,  0,  0,  0,  0,  0,  0,  0, 13]), '(0) D02WalkingQuickly')\n",
      "(array([ 0, 16,  0,  0,  0,  0,  0,  0,  0,  0,  0,  4]), '(1) D04JogingQuickly')\n",
      "(array([ 0, 10,  0,  0,  0,  0,  0,  0,  0,  0,  0,  2]), '(2) D06DownstairsQuickly')\n",
      "(array([ 0, 12,  0,  0,  0,  0,  0,  0,  0,  0,  0,  1]), '(3) D06UpstairsQuickly')\n",
      "(array([ 0, 11,  0,  0,  0,  0,  0,  0,  0,  0,  0,  9]), '(4) D10LowSitDownQuickly')\n",
      "(array([ 0, 12,  0,  0,  0,  0,  0,  0,  0,  0,  0,  5]), '(5) D10LowSitUpQuickly')\n",
      "(array([ 0,  9,  0,  0,  0,  0,  0,  0,  0,  0,  0, 11]), '(6) D14LyBack')\n",
      "(array([0, 1, 0, 0, 0, 0, 0, 0, 0, 0, 0, 6]), '(7) D14LyLateral')\n",
      "(array([ 0,  9,  0,  0,  0,  0,  0,  0,  0,  0,  0, 11]), '(8) D15Standing')\n",
      "(array([0, 6, 0, 0, 0, 0, 0, 0, 0, 0, 0, 3]), '(9) D18Stumble')\n",
      "(array([ 0, 13,  0,  0,  0,  0,  0,  0,  0,  0,  0,  7]), '(10) D19Jump')\n",
      "(array([ 0,  6,  0,  0,  0,  0,  0,  0,  0,  0,  0, 14]), '(11) D1213Sit')\n",
      " (0) (1) (2) (3) (4) (5) (6) (7) (8) (9) (10) (11)\n"
     ]
    }
   ],
   "source": [
    "# small batch size for calculation efficiency\n",
    "train_batch_size = 64\n",
    "\n",
    "# Split the dataset to limit RAM usage.\n",
    "batch_size = 256\n",
    "\n",
    "# show classes' name\n",
    "class_names = load_data.load_class_names()\n",
    "optimize(num_iterations=10000)\n",
    "print_test_accuracy(show_example_errors=True, show_confusion_matrix=True)\n",
    "\n",
    "#sys.path.append('./')"
   ]
  },
  {
   "cell_type": "markdown",
   "metadata": {},
   "source": [
    "# accuracy of each class prediction"
   ]
  },
  {
   "cell_type": "code",
   "execution_count": 21,
   "metadata": {},
   "outputs": [
    {
     "name": "stdout",
     "output_type": "stream",
     "text": [
      "Accuracy of each class prediction: \n",
      "{0: 0.0, 1: 0.8, 2: 0.0, 3: 0.0, 4: 0.0, 5: 0.0, 6: 0.0, 7: 0.0, 8: 0.0, 9: 0.0, 10: 0.0, 11: 0.7}\n",
      "Accuracy of each classname: \n",
      "{u'D18Stumble': 0.0, u'D14LyBack': 0.0, u'D19Jump': 0.0, u'D10LowSitUpQuickly': 0.0, u'D1213Sit': 0.7, u'D02WalkingQuickly': 0.0, u'D14LyLateral': 0.0, u'D04JogingQuickly': 0.8, u'D15Standing': 0.0, u'D06UpstairsQuickly': 0.0, u'D06DownstairsQuickly': 0.0, u'D10LowSitDownQuickly': 0.0}\n"
     ]
    }
   ],
   "source": [
    "# build class dict\n",
    "y_true_cls = np.argmax(labels_test, 1)\n",
    "correct, cls_pred = predict_cls_test() \n",
    "#cls_num = set(y_true_cls)\n",
    "#cls_dict = dict.fromkeys(cls_num)\n",
    "\n",
    "cls_dict = dict()\n",
    "for cls_index, cls in enumerate(y_true_cls):\n",
    "    if cls in cls_dict.keys():  \n",
    "        cls_dict[cls].append(cls_index)  \n",
    "    else:  \n",
    "        cls_dict[cls] = [cls_index]\n",
    "\n",
    "pre_dict = dict()\n",
    "for i in cls_dict.keys():\n",
    "    pre_dict[i] = [correct[j] for j in cls_dict[i]]\n",
    "\n",
    "# calculate each class accuracy\n",
    "accu_dict = dict.fromkeys(pre_dict.keys())\n",
    "for i in pre_dict.keys():\n",
    "    cls_sum = len(pre_dict[i])\n",
    "    pre_true = pre_dict[i].count(True)\n",
    "    accu = pre_true*1.0/cls_sum\n",
    "    accu_dict[i] = accu\n",
    "\n",
    "accu_cls = dict.fromkeys(class_names)\n",
    "for i in range(len(class_names)):\n",
    "    accu_cls[class_names[i]] = float('%0.4f' % accu_dict[i])\n",
    "\n",
    "print(\"Accuracy of each class prediction: \")\n",
    "print(accu_dict)\n",
    "print(\"Accuracy of each classname: \")\n",
    "print(accu_cls)\n",
    "\n",
    "session.close()"
   ]
  }
 ],
 "metadata": {
  "kernelspec": {
   "display_name": "Python 2",
   "language": "python",
   "name": "python2"
  },
  "language_info": {
   "codemirror_mode": {
    "name": "ipython",
    "version": 2
   },
   "file_extension": ".py",
   "mimetype": "text/x-python",
   "name": "python",
   "nbconvert_exporter": "python",
   "pygments_lexer": "ipython2",
   "version": "2.7.12"
  }
 },
 "nbformat": 4,
 "nbformat_minor": 2
}
